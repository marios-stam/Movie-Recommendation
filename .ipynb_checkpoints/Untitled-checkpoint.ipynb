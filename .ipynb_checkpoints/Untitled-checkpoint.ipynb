{
 "cells": [
  {
   "cell_type": "code",
   "execution_count": 1,
   "metadata": {
    "scrolled": true
   },
   "outputs": [],
   "source": [
    "import csv,json\n",
    "from elasticsearch import helpers, Elasticsearch\n",
    "\n",
    "es = Elasticsearch([{'host': 'localhost', 'port': 9200}])\n"
   ]
  },
  {
   "cell_type": "markdown",
   "metadata": {},
   "source": [
    "Για να μην βγάζει σφάλματα λόγω του χαμηλού χώρου στον δίσκο τρέχω αυτό στο bash:\n",
    "curl -XPUT -H \"Content-Type: application/json\" http://localhost:9200/_cluster/settings -d '{ \"transient\": { \"cluster.routing.allocation.disk.threshold_enabled\": false } }'\n",
    "και\n",
    "curl -XPUT -H \"Content-Type: application/json\" http://localhost:9200/_all/_settings -d '{\"index.blocks.read_only_allow_delete\": null}'\n"
   ]
  },
  {
   "cell_type": "code",
   "execution_count": 3,
   "metadata": {
    "collapsed": true
   },
   "outputs": [
    {
     "name": "stderr",
     "output_type": "stream",
     "text": [
      "C:\\Users\\mario\\AppData\\Local\\Programs\\Python\\Python36\\lib\\site-packages\\elasticsearch\\connection\\base.py:190: ElasticsearchDeprecationWarning: [types removal] Specifying types in document index requests is deprecated, use the typeless endpoints instead (/{index}/_doc/{id}, /{index}/_doc, or /{index}/_create/{id}).\n",
      "  warnings.warn(message, category=ElasticsearchDeprecationWarning)\n"
     ]
    },
    {
     "name": "stdout",
     "output_type": "stream",
     "text": [
      "100\n",
      "200\n",
      "300\n",
      "400\n",
      "500\n",
      "600\n",
      "700\n",
      "800\n",
      "900\n",
      "1000\n",
      "1100\n",
      "1200\n",
      "1300\n",
      "1400\n",
      "1500\n",
      "1600\n",
      "1700\n",
      "1800\n",
      "1900\n",
      "2000\n",
      "2100\n",
      "2200\n",
      "2300\n",
      "2400\n",
      "2500\n",
      "2600\n",
      "2700\n",
      "2800\n",
      "2900\n",
      "3000\n",
      "3100\n",
      "3200\n",
      "3300\n",
      "3400\n",
      "3500\n",
      "3600\n",
      "3700\n",
      "3800\n",
      "3900\n",
      "4000\n",
      "4100\n",
      "4200\n",
      "4300\n",
      "4400\n",
      "4500\n",
      "4600\n",
      "4700\n",
      "4800\n",
      "4900\n",
      "5000\n",
      "5100\n",
      "5200\n",
      "5300\n",
      "5400\n",
      "5500\n",
      "5600\n",
      "5700\n",
      "5800\n",
      "5900\n",
      "6000\n",
      "6100\n",
      "6200\n",
      "6300\n",
      "6400\n",
      "6500\n",
      "6600\n",
      "6700\n",
      "6800\n",
      "6900\n",
      "7000\n",
      "7100\n",
      "7200\n",
      "7300\n",
      "7400\n",
      "7500\n",
      "7600\n",
      "7700\n",
      "7800\n",
      "7900\n",
      "8000\n",
      "8100\n",
      "8200\n",
      "8300\n",
      "8400\n",
      "8500\n",
      "8600\n",
      "8700\n",
      "8800\n",
      "8900\n",
      "9000\n",
      "9100\n"
     ]
    }
   ],
   "source": [
    "def csv_reader(file_name):\n",
    "    with open(file_name, 'r',encoding=\"utf8\") as outfile:\n",
    "        reader = csv.DictReader(outfile)\n",
    "        i = 1\n",
    "        results = []\n",
    "        for row in reader:\n",
    "            #print(row)\n",
    "            #print(\"   i=\",i)\n",
    "            es.index(index='marios', doc_type='mlkia', id=i,body=json.dumps(row))\n",
    "            i = i + 1\n",
    "            if (i%100==0):\n",
    "                print(i)\n",
    "            \n",
    "csv_reader('source/movies.csv')\n",
    "print()"
   ]
  },
  {
   "cell_type": "markdown",
   "metadata": {},
   "source": [
    "Στην συνέχεια θα γίνει αναζήτηση για την είσοδο που θα δώσει ο χρήστης"
   ]
  },
  {
   "cell_type": "code",
   "execution_count": 17,
   "metadata": {},
   "outputs": [
    {
     "name": "stdout",
     "output_type": "stream",
     "text": [
      "Παρακαλώ εισάγετε το κείμενο προς αναζήτηση:toy\n"
     ]
    },
    {
     "data": {
      "text/plain": [
       "{'took': 137,\n",
       " 'timed_out': False,\n",
       " '_shards': {'total': 1, 'successful': 1, 'skipped': 0, 'failed': 0},\n",
       " 'hits': {'total': {'value': 6, 'relation': 'eq'},\n",
       "  'max_score': 8.353472,\n",
       "  'hits': [{'_index': 'marios',\n",
       "    '_type': 'mlkia',\n",
       "    '_id': '1',\n",
       "    '_score': 8.353472,\n",
       "    '_source': {'movieId': '1',\n",
       "     'title': 'Toy Story (1995)',\n",
       "     'genres': 'Adventure|Animation|Children|Comedy|Fantasy'}},\n",
       "   {'_index': 'marios',\n",
       "    '_type': 'mlkia',\n",
       "    '_id': '3830',\n",
       "    '_score': 8.353472,\n",
       "    '_source': {'movieId': '4929',\n",
       "     'title': 'Toy, The (1982)',\n",
       "     'genres': 'Comedy'}},\n",
       "   {'_index': 'marios',\n",
       "    '_type': 'mlkia',\n",
       "    '_id': '4342',\n",
       "    '_score': 8.353472,\n",
       "    '_source': {'movieId': '5843',\n",
       "     'title': 'Toy Soldiers (1991)',\n",
       "     'genres': 'Action|Drama'}},\n",
       "   {'_index': 'marios',\n",
       "    '_type': 'mlkia',\n",
       "    '_id': '2507',\n",
       "    '_score': 7.534423,\n",
       "    '_source': {'movieId': '3114',\n",
       "     'title': 'Toy Story 2 (1999)',\n",
       "     'genres': 'Adventure|Animation|Children|Comedy|Fantasy'}},\n",
       "   {'_index': 'marios',\n",
       "    '_type': 'mlkia',\n",
       "    '_id': '7557',\n",
       "    '_score': 7.534423,\n",
       "    '_source': {'movieId': '78499',\n",
       "     'title': 'Toy Story 3 (2010)',\n",
       "     'genres': 'Adventure|Animation|Children|Comedy|Fantasy|IMAX'}},\n",
       "   {'_index': 'marios',\n",
       "    '_type': 'mlkia',\n",
       "    '_id': '8438',\n",
       "    '_score': 6.8616447,\n",
       "    '_source': {'movieId': '106022',\n",
       "     'title': 'Toy Story of Terror (2013)',\n",
       "     'genres': 'Animation|Children|Comedy'}}]}}"
      ]
     },
     "execution_count": 17,
     "metadata": {},
     "output_type": "execute_result"
    }
   ],
   "source": [
    "erotima=input(\"Παρακαλώ εισάγετε το κείμενο προς αναζήτηση:\")\n",
    "\n",
    "query_body = {\n",
    "  \"query\": {\n",
    "      \"match\": {\n",
    "          \"title\": erotima\n",
    "      }\n",
    "  }\n",
    "}\n",
    "query_body\n",
    "result=es.search(index=\"marios\", body=query_body)\n"
   ]
  },
  {
   "cell_type": "code",
   "execution_count": 43,
   "metadata": {},
   "outputs": [
    {
     "name": "stdout",
     "output_type": "stream",
     "text": [
      "      Toy Story (1995)\n",
      "      Toy, The (1982)\n",
      "      Toy Soldiers (1991)\n",
      "      Toy Story 2 (1999)\n",
      "      Toy Story 3 (2010)\n",
      "      Toy Story of Terror (2013)\n"
     ]
    }
   ],
   "source": [
    "for i in range(len(result)):\n",
    "    print(\"     \",result[i]['_source']['title'])"
   ]
  },
  {
   "cell_type": "code",
   "execution_count": 14,
   "metadata": {},
   "outputs": [
    {
     "name": "stdout",
     "output_type": "stream",
     "text": [
      "['genres', 'movieId', 'title']\n"
     ]
    }
   ],
   "source": [
    "index=\"marios\"\n",
    "mapping = es.indices.get_mapping(index)\n",
    "dict_index_fields = []\n",
    "for field in mapping[index]['mappings']['properties']:\n",
    "    dict_index_fields.append(field) \n",
    "print(dict_index_fields)\n"
   ]
  },
  {
   "cell_type": "code",
   "execution_count": 44,
   "metadata": {},
   "outputs": [
    {
     "ename": "TypeError",
     "evalue": "can only concatenate list (not \"tuple\") to list",
     "output_type": "error",
     "traceback": [
      "\u001b[1;31m---------------------------------------------------------------------------\u001b[0m",
      "\u001b[1;31mTypeError\u001b[0m                                 Traceback (most recent call last)",
      "\u001b[1;32m<ipython-input-44-f24617e56276>\u001b[0m in \u001b[0;36m<module>\u001b[1;34m\u001b[0m\n\u001b[0;32m      2\u001b[0m     \u001b[0margs\u001b[0m\u001b[1;33m=\u001b[0m\u001b[1;33m[\u001b[0m\u001b[1;34m\"    \"\u001b[0m\u001b[1;33m]\u001b[0m\u001b[1;33m+\u001b[0m\u001b[0margs\u001b[0m\u001b[1;33m\u001b[0m\u001b[0m\n\u001b[0;32m      3\u001b[0m     \u001b[0mprint\u001b[0m\u001b[1;33m(\u001b[0m\u001b[1;33m*\u001b[0m\u001b[0margs\u001b[0m\u001b[1;33m,\u001b[0m\u001b[1;33m**\u001b[0m\u001b[0mkwargs\u001b[0m\u001b[1;33m)\u001b[0m\u001b[1;33m\u001b[0m\u001b[0m\n\u001b[1;32m----> 4\u001b[1;33m \u001b[0mprint\u001b[0m\u001b[1;33m(\u001b[0m\u001b[1;36m2\u001b[0m\u001b[1;33m)\u001b[0m\u001b[1;33m\u001b[0m\u001b[0m\n\u001b[0m",
      "\u001b[1;32m<ipython-input-44-f24617e56276>\u001b[0m in \u001b[0;36mprint\u001b[1;34m(*args, **kwargs)\u001b[0m\n\u001b[0;32m      1\u001b[0m \u001b[1;32mdef\u001b[0m \u001b[0mprint\u001b[0m\u001b[1;33m(\u001b[0m\u001b[1;33m*\u001b[0m\u001b[0margs\u001b[0m\u001b[1;33m,\u001b[0m\u001b[1;33m**\u001b[0m\u001b[0mkwargs\u001b[0m\u001b[1;33m)\u001b[0m\u001b[1;33m:\u001b[0m\u001b[1;33m\u001b[0m\u001b[0m\n\u001b[1;32m----> 2\u001b[1;33m     \u001b[0margs\u001b[0m\u001b[1;33m=\u001b[0m\u001b[1;33m[\u001b[0m\u001b[1;34m\"    \"\u001b[0m\u001b[1;33m]\u001b[0m\u001b[1;33m+\u001b[0m\u001b[0margs\u001b[0m\u001b[1;33m\u001b[0m\u001b[0m\n\u001b[0m\u001b[0;32m      3\u001b[0m     \u001b[0mprint\u001b[0m\u001b[1;33m(\u001b[0m\u001b[1;33m*\u001b[0m\u001b[0margs\u001b[0m\u001b[1;33m,\u001b[0m\u001b[1;33m**\u001b[0m\u001b[0mkwargs\u001b[0m\u001b[1;33m)\u001b[0m\u001b[1;33m\u001b[0m\u001b[0m\n\u001b[0;32m      4\u001b[0m \u001b[0mprint\u001b[0m\u001b[1;33m(\u001b[0m\u001b[1;36m2\u001b[0m\u001b[1;33m)\u001b[0m\u001b[1;33m\u001b[0m\u001b[0m\n",
      "\u001b[1;31mTypeError\u001b[0m: can only concatenate list (not \"tuple\") to list"
     ]
    }
   ],
   "source": []
  }
 ],
 "metadata": {
  "kernelspec": {
   "display_name": "Python 3.6.4 64-bit",
   "language": "python",
   "name": "python36464bit1914954320a3462a9e58617f18da77c3"
  },
  "language_info": {
   "codemirror_mode": {
    "name": "ipython",
    "version": 3
   },
   "file_extension": ".py",
   "mimetype": "text/x-python",
   "name": "python",
   "nbconvert_exporter": "python",
   "pygments_lexer": "ipython3",
   "version": "3.6.4"
  }
 },
 "nbformat": 4,
 "nbformat_minor": 2
}
