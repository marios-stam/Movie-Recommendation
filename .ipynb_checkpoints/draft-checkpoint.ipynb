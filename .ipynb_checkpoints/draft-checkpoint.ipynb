{
 "cells": [
  {
   "cell_type": "code",
   "execution_count": 1,
   "metadata": {
    "scrolled": true
   },
   "outputs": [],
   "source": [
    "import csv,json\n",
    "from elasticsearch import helpers, Elasticsearch\n",
    "es = Elasticsearch([{'host': 'localhost', 'port': 9200}])\n"
   ]
  },
  {
   "cell_type": "markdown",
   "metadata": {},
   "source": [
    "Για να μην βγάζει σφάλματα λόγω του χαμηλού χώρου στον δίσκο τρέχω αυτό στο bash:\n",
    "curl -XPUT -H \"Content-Type: application/json\" http://localhost:9200/_cluster/settings -d '{ \"transient\": { \"cluster.routing.allocation.disk.threshold_enabled\": false } }'\n",
    "και\n",
    "curl -XPUT -H \"Content-Type: application/json\" http://localhost:9200/_all/_settings -d '{\"index.blocks.read_only_allow_delete\": null}'\n"
   ]
  },
  {
   "cell_type": "code",
   "execution_count": 2,
   "metadata": {},
   "outputs": [],
   "source": [
    "def load_csv_to_es(file_name,index_name):\n",
    "    with open(file_name,encoding=\"utf8\") as f:\n",
    "        reader = csv.DictReader(f)\n",
    "        helpers.bulk(es, reader, index=index_name, doc_type='csv')"
   ]
  },
  {
   "cell_type": "code",
   "execution_count": 3,
   "metadata": {},
   "outputs": [],
   "source": [
    "#Loading csv files to elastic search\n",
    "#load_csv_to_es('source/movies.csv','movies')\n",
    "#load_csv_to_es('source/ratings.csv','ratings')"
   ]
  },
  {
   "cell_type": "markdown",
   "metadata": {},
   "source": [
    "Στην συνέχεια θα γίνει αναζήτηση για την είσοδο που θα δώσει ο χρήστης"
   ]
  },
  {
   "cell_type": "code",
   "execution_count": 4,
   "metadata": {},
   "outputs": [
    {
     "name": "stdout",
     "output_type": "stream",
     "text": [
      "      ['movieId', 'rating', 'timestamp', 'userId']\n"
     ]
    }
   ],
   "source": [
    "def get_columns(index):\n",
    "    mapping = es.indices.get_mapping(index)\n",
    "    dict_index_fields = []\n",
    "    for field in mapping[index]['mappings']['properties']:\n",
    "        dict_index_fields.append(field) \n",
    "    print(\"     \",dict_index_fields)\n",
    "get_columns('ratings')"
   ]
  },
  {
   "cell_type": "code",
   "execution_count": 5,
   "metadata": {},
   "outputs": [],
   "source": [
    "def search_query(index,query,searchColumn,showColumn=None):\n",
    "    query_body = {\n",
    "      \"query\": {\n",
    "          \"match\": {\n",
    "              searchColumn: query\n",
    "          }\n",
    "      }\n",
    "    }\n",
    "    result=es.search(index=index, body=query_body,size=999)\n",
    "    result=result[\"hits\"][\"hits\"]\n",
    "    if showColumn!=None:\n",
    "        for i in range(len(result)):\n",
    "            print(\"     \",result[i]['_source'][showColumn])\n",
    "            \n",
    "    return result"
   ]
  },
  {
   "cell_type": "code",
   "execution_count": 6,
   "metadata": {},
   "outputs": [
    {
     "name": "stdout",
     "output_type": "stream",
     "text": [
      "      Toy Story (1995)\n",
      "      Toy, The (1982)\n",
      "      Toy Soldiers (1991)\n",
      "      Toy Story 2 (1999)\n",
      "      Toy Story 3 (2010)\n",
      "      Toy Story of Terror (2013)\n"
     ]
    }
   ],
   "source": [
    "result=search_query('movies','toy','title',showColumn='title')"
   ]
  },
  {
   "cell_type": "code",
   "execution_count": 7,
   "metadata": {},
   "outputs": [],
   "source": [
    "def getAverageRating(movies):\n",
    "    #returns a dictionary following the form { movieId:averageRating }\n",
    "    print(\"      \",len(movies),\"movies found\")\n",
    "    print(\"     \",\"Average rating of every movie\")\n",
    "    result={}\n",
    "    for i in range(len(movies)):\n",
    "        #for each movie\n",
    "        print(\"     \",\"============================================================\")\n",
    "        movieId=movies[i]['_source']['movieId']\n",
    "        apot=search_query('ratings',movieId,'movieId',showColumn=None)\n",
    "        average=sum( float(i['_source']['rating']) for i in apot ) /len(apot)\n",
    "        print(\"     \",'movieId:',movieId,'-->',average)\n",
    "        result[movieId]=average\n",
    "    \n",
    "    #normalising\n",
    "    maxRating=max(result.values())\n",
    "    for i in result:\n",
    "        result[i]=result[i]/maxRating\n",
    "    result=dict( sorted(result.items(), key=lambda item: item[1],reverse=True) )\n",
    "    return result\n",
    "        \n",
    "        "
   ]
  },
  {
   "cell_type": "code",
   "execution_count": 8,
   "metadata": {},
   "outputs": [
    {
     "name": "stdout",
     "output_type": "stream",
     "text": [
      "       6 movies found\n",
      "      Average rating of every movie\n",
      "      ============================================================\n",
      "      movieId: 1 --> 3.8724696356275303\n",
      "      ============================================================\n",
      "      movieId: 4929 --> 2.7\n",
      "      ============================================================\n",
      "      movieId: 5843 --> 4.0\n",
      "      ============================================================\n",
      "      movieId: 3114 --> 3.844\n",
      "      ============================================================\n",
      "      movieId: 78499 --> 4.071428571428571\n",
      "      ============================================================\n",
      "      movieId: 106022 --> 4.0\n"
     ]
    },
    {
     "data": {
      "text/plain": [
       "{'78499': 1.0,\n",
       " '5843': 0.9824561403508772,\n",
       " '106022': 0.9824561403508772,\n",
       " '1': 0.9511328929611479,\n",
       " '3114': 0.9441403508771931,\n",
       " '4929': 0.6631578947368422}"
      ]
     },
     "execution_count": 8,
     "metadata": {},
     "output_type": "execute_result"
    }
   ],
   "source": [
    "getAverageRating(result)"
   ]
  },
  {
   "cell_type": "code",
   "execution_count": 9,
   "metadata": {},
   "outputs": [],
   "source": [
    "def getBM25score(movies):\n",
    "    #returns a dictionary following the form { movieId:BM25 score }\n",
    "    result={}\n",
    "    for i in movies:\n",
    "        #for each movie\n",
    "        movieId=i['_source']['movieId']\n",
    "        result[movieId]=i['_score'] \n",
    "    #normalising\n",
    "    maxScore=max(result.values())\n",
    "    for i in result:\n",
    "        result[i]=result[i]/maxScore\n",
    "    result=dict( sorted(result.items(), key=lambda item: item[1],reverse=True) )\n",
    "    return result"
   ]
  },
  {
   "cell_type": "code",
   "execution_count": 10,
   "metadata": {},
   "outputs": [
    {
     "data": {
      "text/plain": [
       "{'1': 1.0,\n",
       " '4929': 1.0,\n",
       " '5843': 1.0,\n",
       " '3114': 0.9019450273021845,\n",
       " '78499': 0.9019450273021845,\n",
       " '106022': 0.8214024999162064}"
      ]
     },
     "execution_count": 10,
     "metadata": {},
     "output_type": "execute_result"
    }
   ],
   "source": [
    "getBM25score(result)"
   ]
  },
  {
   "cell_type": "code",
   "execution_count": 11,
   "metadata": {},
   "outputs": [],
   "source": [
    "def getUserRating(movies,userId):\n",
    "    result={}\n",
    "    for i in range(len(movies)):\n",
    "        #for each movie\n",
    "        print(\"     \",\"============================================================\")\n",
    "        movieId=movies[i]['_source']['movieId']\n",
    "        apot=search_query('ratings',movieId,'movieId',showColumn=None)\n",
    "        found=False\n",
    "        for i in apot:\n",
    "            #print(\"      \",i['_source']['userId'])\n",
    "            if i['_source']['userId']==str(userId):\n",
    "                result[movieId]= float( i['_source']['rating'] )\n",
    "                found=True\n",
    "        if not found:\n",
    "            result[movieId]=0\n",
    "            \n",
    "    return result"
   ]
  },
  {
   "cell_type": "code",
   "execution_count": 12,
   "metadata": {},
   "outputs": [
    {
     "name": "stdout",
     "output_type": "stream",
     "text": [
      "      ============================================================\n",
      "      ============================================================\n",
      "      ============================================================\n",
      "      ============================================================\n",
      "      ============================================================\n",
      "      ============================================================\n"
     ]
    },
    {
     "data": {
      "text/plain": [
       "{'1': 3.0, '4929': 0, '5843': 0, '3114': 0, '78499': 0, '106022': 0}"
      ]
     },
     "execution_count": 12,
     "metadata": {},
     "output_type": "execute_result"
    }
   ],
   "source": [
    "#es.indices.delete(index='ratings')\n",
    "getUserRating(result,7)"
   ]
  }
 ],
 "metadata": {
  "kernelspec": {
   "display_name": "Python 3.6.4 64-bit",
   "language": "python",
   "name": "python36464bit1914954320a3462a9e58617f18da77c3"
  },
  "language_info": {
   "codemirror_mode": {
    "name": "ipython",
    "version": 3
   },
   "file_extension": ".py",
   "mimetype": "text/x-python",
   "name": "python",
   "nbconvert_exporter": "python",
   "pygments_lexer": "ipython3",
   "version": "3.6.4"
  }
 },
 "nbformat": 4,
 "nbformat_minor": 2
}
