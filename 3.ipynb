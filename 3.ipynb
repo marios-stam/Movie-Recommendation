{
 "cells": [
  {
   "cell_type": "code",
   "execution_count": 263,
   "metadata": {},
   "outputs": [],
   "source": [
    "import csv,json\n",
    "from elasticsearch import helpers, Elasticsearch\n",
    "import pandas as pd\n",
    "es = Elasticsearch([{'host': 'localhost', 'port': 9200}])\n"
   ]
  },
  {
   "cell_type": "code",
   "execution_count": 264,
   "metadata": {},
   "outputs": [],
   "source": [
    "def load_csv_to_es(file_name,index_name):\n",
    "    with open(file_name,encoding=\"utf8\") as f:\n",
    "        reader = csv.DictReader(f)\n",
    "        helpers.bulk(es, reader, index=index_name, doc_type='csv')"
   ]
  },
  {
   "cell_type": "code",
   "execution_count": 265,
   "metadata": {},
   "outputs": [],
   "source": [
    "#Loading csv files to elastic search\n",
    "#load_csv_to_es('source/movies.csv','movies')\n",
    "#load_csv_to_es('source/ratings.csv','ratings')"
   ]
  },
  {
   "cell_type": "code",
   "execution_count": 266,
   "metadata": {},
   "outputs": [],
   "source": [
    "def search_query(index,query,searchColumn,showColumn=None):\n",
    "    query_body = {\n",
    "      \"query\": {\n",
    "          \"match\": {\n",
    "              searchColumn: query\n",
    "          }\n",
    "      }\n",
    "    }\n",
    "    result=es.search(index=index, body=query_body,size=999)\n",
    "    result=result[\"hits\"][\"hits\"]\n",
    "    if showColumn!=None:\n",
    "        for i in range(len(result)):\n",
    "            print(result[i]['_source'][showColumn])\n",
    "            \n",
    "    return result"
   ]
  },
  {
   "cell_type": "code",
   "execution_count": 267,
   "metadata": {},
   "outputs": [
    {
     "output_type": "stream",
     "name": "stdout",
     "text": "1\n4929\n5843\n3114\n78499\n106022\n"
    }
   ],
   "source": [
    "result=search_query('movies','toy','title',showColumn='movieId')"
   ]
  },
  {
   "cell_type": "code",
   "execution_count": 268,
   "metadata": {},
   "outputs": [],
   "source": [
    "def getUserCluster(userId):\n",
    "    cluster_map=pd.read_csv('UsersClusters.csv')  \n",
    "    clusters=[]\n",
    "    for i in range(max(cluster_map['cluster'])):\n",
    "        x=list( cluster_map['userId'][cluster_map['cluster'] == i] )\n",
    "        clusters.append(x)\n",
    "    for cluster in clusters:\n",
    "        if userId in cluster:\n",
    "            return cluster\n",
    "            "
   ]
  },
  {
   "cell_type": "code",
   "execution_count": 269,
   "metadata": {},
   "outputs": [],
   "source": [
    "def getBM25score(movies):\n",
    "    #returns a dictionary following the form { movieId:BM25 score }\n",
    "    result={}\n",
    "    for i in movies:\n",
    "        #for each movie\n",
    "        movieId=i['_source']['movieId']\n",
    "        result[movieId]=i['_score'] \n",
    "    #normalising\n",
    "    maxScore=max(result.values())\n",
    "    for i in result:\n",
    "        result[i]=result[i]/maxScore\n",
    "    result=dict( sorted(result.items(), key=lambda item: item[1],reverse=True) )\n",
    "    return result"
   ]
  },
  {
   "cell_type": "code",
   "execution_count": 270,
   "metadata": {},
   "outputs": [],
   "source": [
    "def getAverageRating(movies):\n",
    "    #returns a dictionary following the form { movieId:averageRating }\n",
    "    #print(\"      \",len(movies),\"movies found\")\n",
    "    #print(\"     \",\"Average rating of every movie\")\n",
    "    result={}\n",
    "    for i in range(len(movies)):\n",
    "        #for each movie\n",
    "        #print(\"     \",\"============================================================\")\n",
    "        movieId=movies[i]['_source']['movieId']\n",
    "        #print('movieId:',movieId)\n",
    "        apot=search_query('ratings',movieId,'movieId',showColumn=None)\n",
    "        average=sum( float(i['_source']['rating']) for i in apot ) /len(apot)\n",
    "        #print(\"     \",'movieId:',movieId,'-->',average)\n",
    "        result[movieId]=average\n",
    "    \n",
    "    #normalising\n",
    "    maxRating=max(result.values())\n",
    "    for i in result:\n",
    "        result[i]=result[i]/maxRating\n",
    "    result=dict( sorted(result.items(), key=lambda item: item[1],reverse=True) )\n",
    "    return result"
   ]
  },
  {
   "cell_type": "code",
   "execution_count": 271,
   "metadata": {},
   "outputs": [],
   "source": [
    "def getKmeansAverageMovieScore(result,user):\n",
    "    cluster=getUserCluster(user)\n",
    "    ratings=pd.read_csv('source/ratings.csv') \n",
    "    scores={}\n",
    "    for i in result:\n",
    "        movieId=i['_source']['movieId']\n",
    "        rating=0\n",
    "        counter=0\n",
    "        for userId in cluster:\n",
    "            index=ratings.index[ (ratings['movieId']==int(movieId)) & (ratings['userId']==userId ) ]\n",
    "            if len(index)!=0:\n",
    "                counter+=1\n",
    "                rating+=ratings['rating'][index[0]]\n",
    "\n",
    "        if counter!=0:\n",
    "            rating=rating/counter\n",
    "\n",
    "        scores[movieId]=rating\n",
    "        \n",
    "    #normalising\n",
    "    maxScore=max(scores.values())\n",
    "    for i in scores:\n",
    "        scores[i]=scores[i]/maxScore\n",
    "        \n",
    "    scores=dict( sorted(scores.items(), key=lambda item: item[1],reverse=True) )\n",
    "    return scores       "
   ]
  },
  {
   "cell_type": "code",
   "execution_count": 272,
   "metadata": {},
   "outputs": [
    {
     "output_type": "execute_result",
     "data": {
      "text/plain": "{'1': 1.0,\n '78499': 0.8421052631578947,\n '3114': 0.7719298245614035,\n '4929': 0.631578947368421,\n '5843': 0.0,\n '106022': 0.0}"
     },
     "metadata": {},
     "execution_count": 272
    }
   ],
   "source": [
    "getKmeansAverageMovieScore(result,1)"
   ]
  },
  {
   "cell_type": "code",
   "execution_count": 273,
   "metadata": {},
   "outputs": [],
   "source": [
    "def getUserRating(movies,userId):\n",
    "    result={}\n",
    "    for i in range(len(movies)):\n",
    "        #for each movie\n",
    "        #print(\"     \",i,\"============================================================\")\n",
    "        movieId=movies[i]['_source']['movieId']\n",
    "        apot=search_query('ratings',movieId,'movieId',showColumn=None)\n",
    "        found=False\n",
    "        for i in apot:\n",
    "            if i['_source']['userId']==str(userId):\n",
    "                result[movieId]= float( i['_source']['rating'] )\n",
    "                found=True\n",
    "                \n",
    "        if not found:\n",
    "            result[movieId]=0\n",
    "    \n",
    "    #normalising\n",
    "    maxScore=max(result.values())\n",
    "    if maxScore==0:\n",
    "        return result    \n",
    "    for i in result:\n",
    "        result[i]=result[i]/maxScore\n",
    "        \n",
    "    result=dict( sorted(result.items(), key=lambda item: item[1],reverse=True) )\n",
    "        \n",
    "    return result"
   ]
  },
  {
   "cell_type": "code",
   "execution_count": 303,
   "metadata": {},
   "outputs": [],
   "source": [
    "def getUserDeterminedOrPredicted(result,userId):\n",
    "    determined=getUserRating(result,userId)\n",
    "    predicted=getKmeansAverageMovieScore(result,userId)\n",
    "    out={}\n",
    "    for movieId in determined.keys():\n",
    "        if determined[movieId]==0:\n",
    "            out[movieId]=predicted[movieId]\n",
    "        else:\n",
    "            out[movieId]=determined[movieId]\n",
    "    \n",
    "    return out"
   ]
  },
  {
   "cell_type": "code",
   "execution_count": 306,
   "metadata": {},
   "outputs": [],
   "source": [
    "def getTotalScore(result,userId):\n",
    "    bm25=getBM25score(result)\n",
    "    userRating=getUserDeterminedOrPredicted(result,userId)\n",
    "    avrgRating=getAverageRating(result)\n",
    "\n",
    "    totalScore={}\n",
    "    for  movieId in bm25:\n",
    "        print('movieId:',movieId)\n",
    "        print('bm25-->',bm25[movieId])\n",
    "        print('user Rating-->',userRating[movieId])\n",
    "        print('average Rating-->',avrgRating[movieId])\n",
    "\n",
    "        totalScore[movieId]=bm25[movieId]+userRating[movieId]+avrgRating[movieId]\n",
    "        if (userRating[movieId]==0):\n",
    "            totalScore[movieId]=totalScore[movieId]/2\n",
    "        else:\n",
    "            totalScore[movieId]=totalScore[movieId]/3\n",
    "   \n",
    "    totalScore=dict( sorted(totalScore.items(), key=lambda item: item[1],reverse=True) )\n",
    "    return totalScore"
   ]
  },
  {
   "cell_type": "code",
   "execution_count": 307,
   "metadata": {},
   "outputs": [
    {
     "output_type": "stream",
     "name": "stdout",
     "text": "movieId: 1\nbm25--> 1.0\nuser Rating--> 1.0\naverage Rating--> 0.9511328929611479\nmovieId: 4929\nbm25--> 1.0\nuser Rating--> 0.631578947368421\naverage Rating--> 0.6631578947368422\nmovieId: 5843\nbm25--> 1.0\nuser Rating--> 0.0\naverage Rating--> 0.9824561403508772\nmovieId: 3114\nbm25--> 0.9019450273021845\nuser Rating--> 0.7719298245614035\naverage Rating--> 0.9441403508771931\nmovieId: 78499\nbm25--> 0.9019450273021845\nuser Rating--> 0.8421052631578947\naverage Rating--> 1.0\nmovieId: 106022\nbm25--> 0.8214024999162064\nuser Rating--> 0.0\naverage Rating--> 0.9824561403508772\n"
    },
    {
     "output_type": "execute_result",
     "data": {
      "text/plain": "{'5843': 0.9912280701754386,\n '1': 0.9837109643203826,\n '78499': 0.9146834301533597,\n '106022': 0.9019293201335419,\n '3114': 0.8726717342469271,\n '4929': 0.7649122807017544}"
     },
     "metadata": {},
     "execution_count": 307
    }
   ],
   "source": [
    "total_score=getTotalScore(result,userId=1)\n",
    "total_score"
   ]
  },
  {
   "cell_type": "code",
   "execution_count": 277,
   "metadata": {},
   "outputs": [],
   "source": [
    "def createIdNameDict(movies):\n",
    "    #returns a dictionary following the form { movieId:movie title }\n",
    "    result={}\n",
    "    for i in movies:\n",
    "        #for each movie\n",
    "        movieId=i['_source']['movieId']\n",
    "        name=i['_source']['title']\n",
    "        result[movieId]=name\n",
    "    \n",
    "    return result\n",
    "    "
   ]
  },
  {
   "cell_type": "code",
   "execution_count": 278,
   "metadata": {},
   "outputs": [],
   "source": [
    "def createIdTitleDict(scores):\n",
    "    titles= createIdNameDict(result)\n",
    "    for i in scores:\n",
    "        print(titles[i],':\\t ',scores[i])"
   ]
  },
  {
   "cell_type": "code",
   "execution_count": 300,
   "metadata": {},
   "outputs": [
    {
     "output_type": "stream",
     "name": "stdout",
     "text": "Toy Soldiers (1991) :\t  0.9912280701754386\nToy Story (1995) :\t  0.9837109643203826\nToy Story 3 (2010) :\t  0.9146834301533597\nToy Story of Terror (2013) :\t  0.9019293201335419\nToy Story 2 (1999) :\t  0.8726717342469271\nToy, The (1982) :\t  0.7649122807017544\n"
    }
   ],
   "source": [
    "createIdTitleDict(total_score)"
   ]
  }
 ],
 "metadata": {
  "language_info": {
   "codemirror_mode": {
    "name": "ipython",
    "version": 3
   },
   "file_extension": ".py",
   "mimetype": "text/x-python",
   "name": "python",
   "nbconvert_exporter": "python",
   "pygments_lexer": "ipython3",
   "version": 3
  },
  "orig_nbformat": 2,
  "kernelspec": {
   "name": "python_defaultSpec_1609112200103",
   "display_name": "Python 3.6.4 64-bit"
  }
 },
 "nbformat": 4,
 "nbformat_minor": 2
}