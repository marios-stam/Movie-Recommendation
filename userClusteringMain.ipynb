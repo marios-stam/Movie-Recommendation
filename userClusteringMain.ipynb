{
 "cells": [
  {
   "cell_type": "code",
   "execution_count": 1,
   "metadata": {},
   "outputs": [],
   "source": [
    "import pandas as pd\n",
    "movies = pd.read_csv('source/movies.csv')\n",
    "ratings= pd.read_csv('source/ratings.csv')"
   ]
  },
  {
   "cell_type": "code",
   "execution_count": 2,
   "metadata": {},
   "outputs": [
    {
     "output_type": "execute_result",
     "data": {
      "text/plain": "   movieId                               title  \\\n0        1                    Toy Story (1995)   \n1        2                      Jumanji (1995)   \n2        3             Grumpier Old Men (1995)   \n3        4            Waiting to Exhale (1995)   \n4        5  Father of the Bride Part II (1995)   \n\n                                              genres  \n0  [Adventure, Animation, Children, Comedy, Fantasy]  \n1                     [Adventure, Children, Fantasy]  \n2                                  [Comedy, Romance]  \n3                           [Comedy, Drama, Romance]  \n4                                           [Comedy]  ",
      "text/html": "<div>\n<style scoped>\n    .dataframe tbody tr th:only-of-type {\n        vertical-align: middle;\n    }\n\n    .dataframe tbody tr th {\n        vertical-align: top;\n    }\n\n    .dataframe thead th {\n        text-align: right;\n    }\n</style>\n<table border=\"1\" class=\"dataframe\">\n  <thead>\n    <tr style=\"text-align: right;\">\n      <th></th>\n      <th>movieId</th>\n      <th>title</th>\n      <th>genres</th>\n    </tr>\n  </thead>\n  <tbody>\n    <tr>\n      <th>0</th>\n      <td>1</td>\n      <td>Toy Story (1995)</td>\n      <td>[Adventure, Animation, Children, Comedy, Fantasy]</td>\n    </tr>\n    <tr>\n      <th>1</th>\n      <td>2</td>\n      <td>Jumanji (1995)</td>\n      <td>[Adventure, Children, Fantasy]</td>\n    </tr>\n    <tr>\n      <th>2</th>\n      <td>3</td>\n      <td>Grumpier Old Men (1995)</td>\n      <td>[Comedy, Romance]</td>\n    </tr>\n    <tr>\n      <th>3</th>\n      <td>4</td>\n      <td>Waiting to Exhale (1995)</td>\n      <td>[Comedy, Drama, Romance]</td>\n    </tr>\n    <tr>\n      <th>4</th>\n      <td>5</td>\n      <td>Father of the Bride Part II (1995)</td>\n      <td>[Comedy]</td>\n    </tr>\n  </tbody>\n</table>\n</div>"
     },
     "metadata": {},
     "execution_count": 2
    }
   ],
   "source": [
    "movies['genres'] = movies['genres'].str.split('|')\n",
    "movies.head()\n",
    "#ratings.head()"
   ]
  },
  {
   "cell_type": "code",
   "execution_count": 3,
   "metadata": {},
   "outputs": [],
   "source": [
    "def getAllGenres():\n",
    "    #get all categories\n",
    "    genres=[]\n",
    "    for index, row in movies.iterrows():\n",
    "        eidh=row['genres']\n",
    "        for genre in eidh:\n",
    "            if not genre in genres:\n",
    "                genres.append(genre)\n",
    "    return genres"
   ]
  },
  {
   "cell_type": "code",
   "execution_count": 4,
   "metadata": {},
   "outputs": [
    {
     "output_type": "execute_result",
     "data": {
      "text/plain": "['Adventure',\n 'Animation',\n 'Children',\n 'Comedy',\n 'Fantasy',\n 'Romance',\n 'Drama',\n 'Action',\n 'Crime',\n 'Thriller',\n 'Horror',\n 'Mystery',\n 'Sci-Fi',\n 'Documentary',\n 'IMAX',\n 'War',\n 'Musical',\n 'Western',\n 'Film-Noir',\n '(no genres listed)']"
     },
     "metadata": {},
     "execution_count": 4
    }
   ],
   "source": [
    "allGenres=getAllGenres()\n",
    "allGenres"
   ]
  },
  {
   "cell_type": "code",
   "execution_count": 5,
   "metadata": {},
   "outputs": [],
   "source": [
    "def getMovieGenres(movieId):\n",
    "    index=movies.index[movies['movieId'] == movieId].tolist()[0]#could just write movieId-1\n",
    "    return movies['genres'][index]"
   ]
  },
  {
   "cell_type": "code",
   "execution_count": 6,
   "metadata": {},
   "outputs": [],
   "source": [
    "def createUserRatingsDict(ratings):\n",
    "    userRatings={}\n",
    "    for index, row in ratings.iterrows():\n",
    "        userId,movieId=row['userId'],row['movieId']\n",
    "        rating=row['rating']\n",
    "        genres=getMovieGenres(movieId)\n",
    "\n",
    "        if not userId in userRatings: \n",
    "            #initiate the index of the user with all ratings=0\n",
    "            genreDict={}\n",
    "            for genre in allGenres:\n",
    "                genreDict[genre]={'value':0 ,'count':0 }\n",
    "\n",
    "            userRatings[userId]=genreDict\n",
    "\n",
    "        for genre in genres:\n",
    "            userRatings[userId][genre]['value']+=rating\n",
    "            userRatings[userId][genre]['count']+=1\n",
    "    return userRatings\n",
    "        "
   ]
  },
  {
   "cell_type": "code",
   "execution_count": 7,
   "metadata": {},
   "outputs": [],
   "source": [
    "def setAverageRating(df): \n",
    "    userGenreRatings=df.copy(deep=True)#changes will not affect the initial parmaeter\n",
    "    for index, row in userGenreRatings.iterrows():\n",
    "        for genre in allGenres:                \n",
    "            if row[genre]['count']==0:\n",
    "              pass\n",
    "            else:\n",
    "                userGenreRatings[genre][index]=row[genre]['value']/row[genre]['count']\n",
    "    \n",
    "    return userGenreRatings"
   ]
  },
  {
   "cell_type": "code",
   "execution_count": 8,
   "metadata": {},
   "outputs": [],
   "source": [
    "def fillMissingDataPreProcessing(df,missing_data_completion='neutral'):\n",
    "    userGenreRatings=df.copy(deep=True)#changes will not affect the initial parmaeter\n",
    "    for index, row in userGenreRatings.iterrows():\n",
    "        for genre in allGenres:  \n",
    "            \n",
    "            rated_of_column=[ i for i in  userGenreRatings[genre]  if type(i)!=dict ] \n",
    "            missing_value={\n",
    "               'neutral': 2.5,\n",
    "                'out_of_range':-1,\n",
    "                'zero':0,\n",
    "               'column_mean':sum(rated_of_column) /len(rated_of_column)  \n",
    "            }\n",
    "            \n",
    "            if type( row[genre] )==dict:\n",
    "                userGenreRatings[genre][index]=missing_value[missing_data_completion]\n",
    "    \n",
    "    return userGenreRatings\n",
    "    \n",
    "    "
   ]
  },
  {
   "cell_type": "code",
   "execution_count": 9,
   "metadata": {},
   "outputs": [],
   "source": [
    "userRatings=createUserRatingsDict(ratings)\n",
    "userGenreRatingsDict=pd.DataFrame(userRatings).T"
   ]
  },
  {
   "cell_type": "code",
   "execution_count": 10,
   "metadata": {},
   "outputs": [
    {
     "output_type": "execute_result",
     "data": {
      "text/plain": "           (no genres listed)   Action Adventure Animation Children   Comedy  \\\n1.0  {'value': 0, 'count': 0}      2.8   2.16667         2      2.5        2   \n2.0  {'value': 0, 'count': 0}  3.31579      3.75   3.66667      3.5  3.09375   \n3.0  {'value': 0, 'count': 0}  3.46875       3.3     2.875      2.7  3.61111   \n4.0  {'value': 0, 'count': 0}  4.27419   4.33871   4.70833  4.63415  4.32955   \n5.0  {'value': 0, 'count': 0}        4     3.825       3.9  3.89286  3.98182   \n\n       Crime               Documentary    Drama  Fantasy  \\\n1.0      2.5  {'value': 0, 'count': 0}  2.57143    2.125   \n2.0  3.66667  {'value': 0, 'count': 0}  3.61538      3.4   \n3.0      3.7                   3.66667     3.92        3   \n4.0  4.15789                         4  4.46429  4.56757   \n5.0     3.45                   3.66667  3.80769     3.75   \n\n                    Film-Noir   Horror                      IMAX  Musical  \\\n1.0  {'value': 0, 'count': 0}        3  {'value': 0, 'count': 0}        3   \n2.0  {'value': 0, 'count': 0}      3.5                         4     3.75   \n3.0  {'value': 0, 'count': 0}    3.375                     2.875      2.5   \n4.0                         5  3.94444                         5  4.83333   \n5.0  {'value': 0, 'count': 0}    3.875                         4     4.25   \n\n                      Mystery  Romance   Sci-Fi Thriller      War  \\\n1.0  {'value': 0, 'count': 0}      3.5      2.4  2.83333        2   \n2.0                         4  3.59091      3.8  3.33333      3.8   \n3.0                      3.75     3.65  3.14286  3.54545  4.16667   \n4.0                   4.09091      4.5  4.25581  4.02273     4.75   \n5.0                   3.33333  4.08108        4    3.625        4   \n\n                      Western  \n1.0                         3  \n2.0                         5  \n3.0                         4  \n4.0                         3  \n5.0  {'value': 0, 'count': 0}  ",
      "text/html": "<div>\n<style scoped>\n    .dataframe tbody tr th:only-of-type {\n        vertical-align: middle;\n    }\n\n    .dataframe tbody tr th {\n        vertical-align: top;\n    }\n\n    .dataframe thead th {\n        text-align: right;\n    }\n</style>\n<table border=\"1\" class=\"dataframe\">\n  <thead>\n    <tr style=\"text-align: right;\">\n      <th></th>\n      <th>(no genres listed)</th>\n      <th>Action</th>\n      <th>Adventure</th>\n      <th>Animation</th>\n      <th>Children</th>\n      <th>Comedy</th>\n      <th>Crime</th>\n      <th>Documentary</th>\n      <th>Drama</th>\n      <th>Fantasy</th>\n      <th>Film-Noir</th>\n      <th>Horror</th>\n      <th>IMAX</th>\n      <th>Musical</th>\n      <th>Mystery</th>\n      <th>Romance</th>\n      <th>Sci-Fi</th>\n      <th>Thriller</th>\n      <th>War</th>\n      <th>Western</th>\n    </tr>\n  </thead>\n  <tbody>\n    <tr>\n      <th>1.0</th>\n      <td>{'value': 0, 'count': 0}</td>\n      <td>2.8</td>\n      <td>2.16667</td>\n      <td>2</td>\n      <td>2.5</td>\n      <td>2</td>\n      <td>2.5</td>\n      <td>{'value': 0, 'count': 0}</td>\n      <td>2.57143</td>\n      <td>2.125</td>\n      <td>{'value': 0, 'count': 0}</td>\n      <td>3</td>\n      <td>{'value': 0, 'count': 0}</td>\n      <td>3</td>\n      <td>{'value': 0, 'count': 0}</td>\n      <td>3.5</td>\n      <td>2.4</td>\n      <td>2.83333</td>\n      <td>2</td>\n      <td>3</td>\n    </tr>\n    <tr>\n      <th>2.0</th>\n      <td>{'value': 0, 'count': 0}</td>\n      <td>3.31579</td>\n      <td>3.75</td>\n      <td>3.66667</td>\n      <td>3.5</td>\n      <td>3.09375</td>\n      <td>3.66667</td>\n      <td>{'value': 0, 'count': 0}</td>\n      <td>3.61538</td>\n      <td>3.4</td>\n      <td>{'value': 0, 'count': 0}</td>\n      <td>3.5</td>\n      <td>4</td>\n      <td>3.75</td>\n      <td>4</td>\n      <td>3.59091</td>\n      <td>3.8</td>\n      <td>3.33333</td>\n      <td>3.8</td>\n      <td>5</td>\n    </tr>\n    <tr>\n      <th>3.0</th>\n      <td>{'value': 0, 'count': 0}</td>\n      <td>3.46875</td>\n      <td>3.3</td>\n      <td>2.875</td>\n      <td>2.7</td>\n      <td>3.61111</td>\n      <td>3.7</td>\n      <td>3.66667</td>\n      <td>3.92</td>\n      <td>3</td>\n      <td>{'value': 0, 'count': 0}</td>\n      <td>3.375</td>\n      <td>2.875</td>\n      <td>2.5</td>\n      <td>3.75</td>\n      <td>3.65</td>\n      <td>3.14286</td>\n      <td>3.54545</td>\n      <td>4.16667</td>\n      <td>4</td>\n    </tr>\n    <tr>\n      <th>4.0</th>\n      <td>{'value': 0, 'count': 0}</td>\n      <td>4.27419</td>\n      <td>4.33871</td>\n      <td>4.70833</td>\n      <td>4.63415</td>\n      <td>4.32955</td>\n      <td>4.15789</td>\n      <td>4</td>\n      <td>4.46429</td>\n      <td>4.56757</td>\n      <td>5</td>\n      <td>3.94444</td>\n      <td>5</td>\n      <td>4.83333</td>\n      <td>4.09091</td>\n      <td>4.5</td>\n      <td>4.25581</td>\n      <td>4.02273</td>\n      <td>4.75</td>\n      <td>3</td>\n    </tr>\n    <tr>\n      <th>5.0</th>\n      <td>{'value': 0, 'count': 0}</td>\n      <td>4</td>\n      <td>3.825</td>\n      <td>3.9</td>\n      <td>3.89286</td>\n      <td>3.98182</td>\n      <td>3.45</td>\n      <td>3.66667</td>\n      <td>3.80769</td>\n      <td>3.75</td>\n      <td>{'value': 0, 'count': 0}</td>\n      <td>3.875</td>\n      <td>4</td>\n      <td>4.25</td>\n      <td>3.33333</td>\n      <td>4.08108</td>\n      <td>4</td>\n      <td>3.625</td>\n      <td>4</td>\n      <td>{'value': 0, 'count': 0}</td>\n    </tr>\n  </tbody>\n</table>\n</div>"
     },
     "metadata": {},
     "execution_count": 10
    }
   ],
   "source": [
    "userGenreRatingsWithMissing=setAverageRating(userGenreRatingsDict)\n",
    "userGenreRatingsWithMissing.head()"
   ]
  },
  {
   "cell_type": "code",
   "execution_count": 11,
   "metadata": {},
   "outputs": [
    {
     "output_type": "execute_result",
     "data": {
      "text/plain": "    (no genres listed)   Action Adventure Animation Children   Comedy  \\\n1.0            3.82143      2.8   2.16667         2      2.5        2   \n2.0            3.82143  3.31579      3.75   3.66667      3.5  3.09375   \n3.0            3.82143  3.46875       3.3     2.875      2.7  3.61111   \n4.0            3.82143  4.27419   4.33871   4.70833  4.63415  4.32955   \n5.0            3.82143        4     3.825       3.9  3.89286  3.98182   \n\n       Crime Documentary    Drama  Fantasy Film-Noir   Horror     IMAX  \\\n1.0      2.5     3.83904  2.57143    2.125   3.90912        3  3.76406   \n2.0  3.66667     3.83904  3.61538      3.4   3.90912      3.5        4   \n3.0      3.7     3.66667     3.92        3   3.90912    3.375    2.875   \n4.0  4.15789           4  4.46429  4.56757         5  3.94444        5   \n5.0     3.45     3.66667  3.80769     3.75   3.90912    3.875        4   \n\n     Musical  Mystery  Romance   Sci-Fi Thriller      War  Western  \n1.0        3  3.74746      3.5      2.4  2.83333        2        3  \n2.0     3.75        4  3.59091      3.8  3.33333      3.8        5  \n3.0      2.5     3.75     3.65  3.14286  3.54545  4.16667        4  \n4.0  4.83333  4.09091      4.5  4.25581  4.02273     4.75        3  \n5.0     4.25  3.33333  4.08108        4    3.625        4  3.61254  ",
      "text/html": "<div>\n<style scoped>\n    .dataframe tbody tr th:only-of-type {\n        vertical-align: middle;\n    }\n\n    .dataframe tbody tr th {\n        vertical-align: top;\n    }\n\n    .dataframe thead th {\n        text-align: right;\n    }\n</style>\n<table border=\"1\" class=\"dataframe\">\n  <thead>\n    <tr style=\"text-align: right;\">\n      <th></th>\n      <th>(no genres listed)</th>\n      <th>Action</th>\n      <th>Adventure</th>\n      <th>Animation</th>\n      <th>Children</th>\n      <th>Comedy</th>\n      <th>Crime</th>\n      <th>Documentary</th>\n      <th>Drama</th>\n      <th>Fantasy</th>\n      <th>Film-Noir</th>\n      <th>Horror</th>\n      <th>IMAX</th>\n      <th>Musical</th>\n      <th>Mystery</th>\n      <th>Romance</th>\n      <th>Sci-Fi</th>\n      <th>Thriller</th>\n      <th>War</th>\n      <th>Western</th>\n    </tr>\n  </thead>\n  <tbody>\n    <tr>\n      <th>1.0</th>\n      <td>3.82143</td>\n      <td>2.8</td>\n      <td>2.16667</td>\n      <td>2</td>\n      <td>2.5</td>\n      <td>2</td>\n      <td>2.5</td>\n      <td>3.83904</td>\n      <td>2.57143</td>\n      <td>2.125</td>\n      <td>3.90912</td>\n      <td>3</td>\n      <td>3.76406</td>\n      <td>3</td>\n      <td>3.74746</td>\n      <td>3.5</td>\n      <td>2.4</td>\n      <td>2.83333</td>\n      <td>2</td>\n      <td>3</td>\n    </tr>\n    <tr>\n      <th>2.0</th>\n      <td>3.82143</td>\n      <td>3.31579</td>\n      <td>3.75</td>\n      <td>3.66667</td>\n      <td>3.5</td>\n      <td>3.09375</td>\n      <td>3.66667</td>\n      <td>3.83904</td>\n      <td>3.61538</td>\n      <td>3.4</td>\n      <td>3.90912</td>\n      <td>3.5</td>\n      <td>4</td>\n      <td>3.75</td>\n      <td>4</td>\n      <td>3.59091</td>\n      <td>3.8</td>\n      <td>3.33333</td>\n      <td>3.8</td>\n      <td>5</td>\n    </tr>\n    <tr>\n      <th>3.0</th>\n      <td>3.82143</td>\n      <td>3.46875</td>\n      <td>3.3</td>\n      <td>2.875</td>\n      <td>2.7</td>\n      <td>3.61111</td>\n      <td>3.7</td>\n      <td>3.66667</td>\n      <td>3.92</td>\n      <td>3</td>\n      <td>3.90912</td>\n      <td>3.375</td>\n      <td>2.875</td>\n      <td>2.5</td>\n      <td>3.75</td>\n      <td>3.65</td>\n      <td>3.14286</td>\n      <td>3.54545</td>\n      <td>4.16667</td>\n      <td>4</td>\n    </tr>\n    <tr>\n      <th>4.0</th>\n      <td>3.82143</td>\n      <td>4.27419</td>\n      <td>4.33871</td>\n      <td>4.70833</td>\n      <td>4.63415</td>\n      <td>4.32955</td>\n      <td>4.15789</td>\n      <td>4</td>\n      <td>4.46429</td>\n      <td>4.56757</td>\n      <td>5</td>\n      <td>3.94444</td>\n      <td>5</td>\n      <td>4.83333</td>\n      <td>4.09091</td>\n      <td>4.5</td>\n      <td>4.25581</td>\n      <td>4.02273</td>\n      <td>4.75</td>\n      <td>3</td>\n    </tr>\n    <tr>\n      <th>5.0</th>\n      <td>3.82143</td>\n      <td>4</td>\n      <td>3.825</td>\n      <td>3.9</td>\n      <td>3.89286</td>\n      <td>3.98182</td>\n      <td>3.45</td>\n      <td>3.66667</td>\n      <td>3.80769</td>\n      <td>3.75</td>\n      <td>3.90912</td>\n      <td>3.875</td>\n      <td>4</td>\n      <td>4.25</td>\n      <td>3.33333</td>\n      <td>4.08108</td>\n      <td>4</td>\n      <td>3.625</td>\n      <td>4</td>\n      <td>3.61254</td>\n    </tr>\n  </tbody>\n</table>\n</div>"
     },
     "metadata": {},
     "execution_count": 11
    }
   ],
   "source": [
    "userGenreRatingsMissingFilled=fillMissingDataPreProcessing(userGenreRatingsWithMissing,missing_data_completion='column_mean')\n",
    "userGenreRatingsMissingFilled.head()"
   ]
  },
  {
   "cell_type": "code",
   "execution_count": 12,
   "metadata": {},
   "outputs": [
    {
     "output_type": "execute_result",
     "data": {
      "text/plain": "      Action Adventure Animation Children   Comedy    Crime Documentary  \\\n1.0      2.8   2.16667         2      2.5        2      2.5     3.83904   \n2.0  3.31579      3.75   3.66667      3.5  3.09375  3.66667     3.83904   \n3.0  3.46875       3.3     2.875      2.7  3.61111      3.7     3.66667   \n4.0  4.27419   4.33871   4.70833  4.63415  4.32955  4.15789           4   \n5.0        4     3.825       3.9  3.89286  3.98182     3.45     3.66667   \n\n       Drama  Fantasy Film-Noir   Horror     IMAX  Musical  Mystery  Romance  \\\n1.0  2.57143    2.125   3.90912        3  3.76406        3  3.74746      3.5   \n2.0  3.61538      3.4   3.90912      3.5        4     3.75        4  3.59091   \n3.0     3.92        3   3.90912    3.375    2.875      2.5     3.75     3.65   \n4.0  4.46429  4.56757         5  3.94444        5  4.83333  4.09091      4.5   \n5.0  3.80769     3.75   3.90912    3.875        4     4.25  3.33333  4.08108   \n\n      Sci-Fi Thriller      War  Western  \n1.0      2.4  2.83333        2        3  \n2.0      3.8  3.33333      3.8        5  \n3.0  3.14286  3.54545  4.16667        4  \n4.0  4.25581  4.02273     4.75        3  \n5.0        4    3.625        4  3.61254  ",
      "text/html": "<div>\n<style scoped>\n    .dataframe tbody tr th:only-of-type {\n        vertical-align: middle;\n    }\n\n    .dataframe tbody tr th {\n        vertical-align: top;\n    }\n\n    .dataframe thead th {\n        text-align: right;\n    }\n</style>\n<table border=\"1\" class=\"dataframe\">\n  <thead>\n    <tr style=\"text-align: right;\">\n      <th></th>\n      <th>Action</th>\n      <th>Adventure</th>\n      <th>Animation</th>\n      <th>Children</th>\n      <th>Comedy</th>\n      <th>Crime</th>\n      <th>Documentary</th>\n      <th>Drama</th>\n      <th>Fantasy</th>\n      <th>Film-Noir</th>\n      <th>Horror</th>\n      <th>IMAX</th>\n      <th>Musical</th>\n      <th>Mystery</th>\n      <th>Romance</th>\n      <th>Sci-Fi</th>\n      <th>Thriller</th>\n      <th>War</th>\n      <th>Western</th>\n    </tr>\n  </thead>\n  <tbody>\n    <tr>\n      <th>1.0</th>\n      <td>2.8</td>\n      <td>2.16667</td>\n      <td>2</td>\n      <td>2.5</td>\n      <td>2</td>\n      <td>2.5</td>\n      <td>3.83904</td>\n      <td>2.57143</td>\n      <td>2.125</td>\n      <td>3.90912</td>\n      <td>3</td>\n      <td>3.76406</td>\n      <td>3</td>\n      <td>3.74746</td>\n      <td>3.5</td>\n      <td>2.4</td>\n      <td>2.83333</td>\n      <td>2</td>\n      <td>3</td>\n    </tr>\n    <tr>\n      <th>2.0</th>\n      <td>3.31579</td>\n      <td>3.75</td>\n      <td>3.66667</td>\n      <td>3.5</td>\n      <td>3.09375</td>\n      <td>3.66667</td>\n      <td>3.83904</td>\n      <td>3.61538</td>\n      <td>3.4</td>\n      <td>3.90912</td>\n      <td>3.5</td>\n      <td>4</td>\n      <td>3.75</td>\n      <td>4</td>\n      <td>3.59091</td>\n      <td>3.8</td>\n      <td>3.33333</td>\n      <td>3.8</td>\n      <td>5</td>\n    </tr>\n    <tr>\n      <th>3.0</th>\n      <td>3.46875</td>\n      <td>3.3</td>\n      <td>2.875</td>\n      <td>2.7</td>\n      <td>3.61111</td>\n      <td>3.7</td>\n      <td>3.66667</td>\n      <td>3.92</td>\n      <td>3</td>\n      <td>3.90912</td>\n      <td>3.375</td>\n      <td>2.875</td>\n      <td>2.5</td>\n      <td>3.75</td>\n      <td>3.65</td>\n      <td>3.14286</td>\n      <td>3.54545</td>\n      <td>4.16667</td>\n      <td>4</td>\n    </tr>\n    <tr>\n      <th>4.0</th>\n      <td>4.27419</td>\n      <td>4.33871</td>\n      <td>4.70833</td>\n      <td>4.63415</td>\n      <td>4.32955</td>\n      <td>4.15789</td>\n      <td>4</td>\n      <td>4.46429</td>\n      <td>4.56757</td>\n      <td>5</td>\n      <td>3.94444</td>\n      <td>5</td>\n      <td>4.83333</td>\n      <td>4.09091</td>\n      <td>4.5</td>\n      <td>4.25581</td>\n      <td>4.02273</td>\n      <td>4.75</td>\n      <td>3</td>\n    </tr>\n    <tr>\n      <th>5.0</th>\n      <td>4</td>\n      <td>3.825</td>\n      <td>3.9</td>\n      <td>3.89286</td>\n      <td>3.98182</td>\n      <td>3.45</td>\n      <td>3.66667</td>\n      <td>3.80769</td>\n      <td>3.75</td>\n      <td>3.90912</td>\n      <td>3.875</td>\n      <td>4</td>\n      <td>4.25</td>\n      <td>3.33333</td>\n      <td>4.08108</td>\n      <td>4</td>\n      <td>3.625</td>\n      <td>4</td>\n      <td>3.61254</td>\n    </tr>\n  </tbody>\n</table>\n</div>"
     },
     "metadata": {},
     "execution_count": 12
    }
   ],
   "source": [
    "del userGenreRatingsMissingFilled['(no genres listed)']\n",
    "userGenreRatingsMissingFilled.head()"
   ]
  },
  {
   "cell_type": "code",
   "execution_count": 13,
   "metadata": {
    "scrolled": false
   },
   "outputs": [],
   "source": [
    "from sklearn.cluster import KMeans\n",
    "import matplotlib.pyplot as plt\n",
    "from sklearn.model_selection import KFold,StratifiedShuffleSplit\n",
    "import random\n",
    "import numpy as np"
   ]
  },
  {
   "cell_type": "code",
   "execution_count": 16,
   "metadata": {},
   "outputs": [],
   "source": [
    "  kmeans = KMeans(n_clusters=15).fit(userGenreRatingsMissingFilled)"
   ]
  },
  {
   "cell_type": "code",
   "execution_count": 44,
   "metadata": {},
   "outputs": [],
   "source": [
    "cluster_map = pd.DataFrame()\n",
    "cluster_map['userId'] = userGenreRatingsMissingFilled.index.values\n",
    "cluster_map['cluster'] = kmeans.labels_\n"
   ]
  },
  {
   "cell_type": "code",
   "execution_count": 45,
   "metadata": {},
   "outputs": [
    {
     "output_type": "execute_result",
     "data": {
      "text/plain": "   userId  cluster\n0     1.0        2\n1     2.0        1\n2     3.0       10\n3     4.0        7\n4     5.0        3",
      "text/html": "<div>\n<style scoped>\n    .dataframe tbody tr th:only-of-type {\n        vertical-align: middle;\n    }\n\n    .dataframe tbody tr th {\n        vertical-align: top;\n    }\n\n    .dataframe thead th {\n        text-align: right;\n    }\n</style>\n<table border=\"1\" class=\"dataframe\">\n  <thead>\n    <tr style=\"text-align: right;\">\n      <th></th>\n      <th>userId</th>\n      <th>cluster</th>\n    </tr>\n  </thead>\n  <tbody>\n    <tr>\n      <th>0</th>\n      <td>1.0</td>\n      <td>2</td>\n    </tr>\n    <tr>\n      <th>1</th>\n      <td>2.0</td>\n      <td>1</td>\n    </tr>\n    <tr>\n      <th>2</th>\n      <td>3.0</td>\n      <td>10</td>\n    </tr>\n    <tr>\n      <th>3</th>\n      <td>4.0</td>\n      <td>7</td>\n    </tr>\n    <tr>\n      <th>4</th>\n      <td>5.0</td>\n      <td>3</td>\n    </tr>\n  </tbody>\n</table>\n</div>"
     },
     "metadata": {},
     "execution_count": 45
    }
   ],
   "source": [
    "cluster_map.head()"
   ]
  },
  {
   "cell_type": "code",
   "execution_count": 48,
   "metadata": {},
   "outputs": [],
   "source": [
    "clusters=[]\n",
    "for i in range(15):\n",
    "    x=list( cluster_map['userId'][cluster_map['cluster'] == i] )\n",
    "    clusters.append(x)"
   ]
  },
  {
   "cell_type": "code",
   "execution_count": 47,
   "metadata": {},
   "outputs": [],
   "source": [
    "cluster_map.to_csv('UsersClusters.csv',index=False)"
   ]
  }
 ],
 "metadata": {
  "kernelspec": {
   "display_name": "Python 3.6.4 64-bit",
   "language": "python",
   "name": "python36464bit1914954320a3462a9e58617f18da77c3"
  },
  "language_info": {
   "codemirror_mode": {
    "name": "ipython",
    "version": 3
   },
   "file_extension": ".py",
   "mimetype": "text/x-python",
   "name": "python",
   "nbconvert_exporter": "python",
   "pygments_lexer": "ipython3",
   "version": "3.6.4-final"
  }
 },
 "nbformat": 4,
 "nbformat_minor": 2
}